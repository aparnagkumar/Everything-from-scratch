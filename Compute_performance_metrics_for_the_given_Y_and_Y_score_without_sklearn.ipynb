{
  "nbformat": 4,
  "nbformat_minor": 0,
  "metadata": {
    "colab": {
      "name": "Compute performance metrics for the given Y and Y_score without sklearn.ipynb",
      "provenance": [],
      "collapsed_sections": [],
      "include_colab_link": true
    },
    "kernelspec": {
      "display_name": "Python 3",
      "language": "python",
      "name": "python3"
    },
    "language_info": {
      "codemirror_mode": {
        "name": "ipython",
        "version": 3
      },
      "file_extension": ".py",
      "mimetype": "text/x-python",
      "name": "python",
      "nbconvert_exporter": "python",
      "pygments_lexer": "ipython3",
      "version": "3.7.3"
    }
  },
  "cells": [
    {
      "cell_type": "markdown",
      "metadata": {
        "id": "view-in-github",
        "colab_type": "text"
      },
      "source": [
        "<a href=\"https://colab.research.google.com/github/aparnagkumar/Python/blob/master/Compute_performance_metrics_for_the_given_Y_and_Y_score_without_sklearn.ipynb\" target=\"_parent\"><img src=\"https://colab.research.google.com/assets/colab-badge.svg\" alt=\"Open In Colab\"/></a>"
      ]
    },
    {
      "cell_type": "markdown",
      "metadata": {
        "colab_type": "text",
        "id": "s0Ej_bXyQvnV"
      },
      "source": [
        "# Compute performance metrics for the given Y and Y_score without sklearn"
      ]
    },
    {
      "cell_type": "code",
      "metadata": {
        "colab_type": "code",
        "id": "4CHb6NE7Qvnc",
        "colab": {}
      },
      "source": [
        "import numpy as np\n",
        "import pandas as pd\n",
        "# other than these two you should not import any other packages"
      ],
      "execution_count": 0,
      "outputs": []
    },
    {
      "cell_type": "markdown",
      "metadata": {
        "colab_type": "text",
        "id": "KbsWXuDaQvnq"
      },
      "source": [
        "<pre>\n",
        "<font color='red'><b>A.</b></font> Compute performance metrics for the given data <strong>5_a.csv</strong>\n",
        "   <b>Note 1:</b> in this data you can see number of positive points >> number of negatives points\n",
        "   <b>Note 2:</b> use pandas or numpy to read the data from <b>5_a.csv</b>\n",
        "   <b>Note 3:</b> you need to derive the class labels from given score</pre> $y^{pred}= \\text{[0 if y_score < 0.5 else 1]}$\n",
        "\n",
        "<pre>\n",
        "<ol>\n",
        "<li> Compute Confusion Matrix </li>\n",
        "<li> Compute F1 Score </li>\n",
        "<li> Compute AUC Score, you need to compute different thresholds and for each threshold compute tpr,fpr and then use               numpy.trapz(tpr_array, fpr_array) <a href='https://stackoverflow.com/q/53603376/4084039'>https://stackoverflow.com/q/53603376/4084039</a>, <a href='https://stackoverflow.com/a/39678975/4084039'>https://stackoverflow.com/a/39678975/4084039</a> Note: it should be numpy.trapz(tpr_array, fpr_array) not numpy.trapz(fpr_array, tpr_array)</li>\n",
        "<li> Compute Accuracy Score </li>\n",
        "</ol>\n",
        "</pre>"
      ]
    },
    {
      "cell_type": "code",
      "metadata": {
        "colab_type": "code",
        "id": "WaFLW7oBQvnt",
        "colab": {},
        "outputId": "16399d80-4afb-45fa-87a0-e543b993ab41"
      },
      "source": [
        "df=pd.read_csv('5_a.csv')\n",
        "df.head(5)"
      ],
      "execution_count": 0,
      "outputs": [
        {
          "output_type": "execute_result",
          "data": {
            "text/html": [
              "<div>\n",
              "<style scoped>\n",
              "    .dataframe tbody tr th:only-of-type {\n",
              "        vertical-align: middle;\n",
              "    }\n",
              "\n",
              "    .dataframe tbody tr th {\n",
              "        vertical-align: top;\n",
              "    }\n",
              "\n",
              "    .dataframe thead th {\n",
              "        text-align: right;\n",
              "    }\n",
              "</style>\n",
              "<table border=\"1\" class=\"dataframe\">\n",
              "  <thead>\n",
              "    <tr style=\"text-align: right;\">\n",
              "      <th></th>\n",
              "      <th>y</th>\n",
              "      <th>proba</th>\n",
              "    </tr>\n",
              "  </thead>\n",
              "  <tbody>\n",
              "    <tr>\n",
              "      <th>0</th>\n",
              "      <td>1.0</td>\n",
              "      <td>0.637387</td>\n",
              "    </tr>\n",
              "    <tr>\n",
              "      <th>1</th>\n",
              "      <td>1.0</td>\n",
              "      <td>0.635165</td>\n",
              "    </tr>\n",
              "    <tr>\n",
              "      <th>2</th>\n",
              "      <td>1.0</td>\n",
              "      <td>0.766586</td>\n",
              "    </tr>\n",
              "    <tr>\n",
              "      <th>3</th>\n",
              "      <td>1.0</td>\n",
              "      <td>0.724564</td>\n",
              "    </tr>\n",
              "    <tr>\n",
              "      <th>4</th>\n",
              "      <td>1.0</td>\n",
              "      <td>0.889199</td>\n",
              "    </tr>\n",
              "  </tbody>\n",
              "</table>\n",
              "</div>"
            ],
            "text/plain": [
              "     y     proba\n",
              "0  1.0  0.637387\n",
              "1  1.0  0.635165\n",
              "2  1.0  0.766586\n",
              "3  1.0  0.724564\n",
              "4  1.0  0.889199"
            ]
          },
          "metadata": {
            "tags": []
          },
          "execution_count": 2
        }
      ]
    },
    {
      "cell_type": "code",
      "metadata": {
        "id": "n8RPoqf_nUSS",
        "colab_type": "code",
        "colab": {},
        "outputId": "429ebba1-5da7-4c72-9671-6075dc6738e8"
      },
      "source": [
        "df.shape"
      ],
      "execution_count": 0,
      "outputs": [
        {
          "output_type": "execute_result",
          "data": {
            "text/plain": [
              "(10100, 2)"
            ]
          },
          "metadata": {
            "tags": []
          },
          "execution_count": 3
        }
      ]
    },
    {
      "cell_type": "code",
      "metadata": {
        "id": "UTn5M9oPnUSZ",
        "colab_type": "code",
        "colab": {},
        "outputId": "8fe01320-8bea-4cfa-d673-bbd10cff6ab2"
      },
      "source": [
        "df.columns"
      ],
      "execution_count": 0,
      "outputs": [
        {
          "output_type": "execute_result",
          "data": {
            "text/plain": [
              "Index(['y', 'proba'], dtype='object')"
            ]
          },
          "metadata": {
            "tags": []
          },
          "execution_count": 4
        }
      ]
    },
    {
      "cell_type": "code",
      "metadata": {
        "id": "_KORbz3KnUSg",
        "colab_type": "code",
        "colab": {},
        "outputId": "7fc2f37a-d0ea-4188-b701-f83a6b3f7f6b"
      },
      "source": [
        "df['y'].value_counts()"
      ],
      "execution_count": 0,
      "outputs": [
        {
          "output_type": "execute_result",
          "data": {
            "text/plain": [
              "1.0    10000\n",
              "0.0      100\n",
              "Name: y, dtype: int64"
            ]
          },
          "metadata": {
            "tags": []
          },
          "execution_count": 5
        }
      ]
    },
    {
      "cell_type": "code",
      "metadata": {
        "id": "UjZI2APPnUSn",
        "colab_type": "code",
        "colab": {}
      },
      "source": [
        "df['predicted_y']=df['proba'].apply(lambda x: 1 if x>0.5 else 0)"
      ],
      "execution_count": 0,
      "outputs": []
    },
    {
      "cell_type": "code",
      "metadata": {
        "id": "QOAzWk6WnUSw",
        "colab_type": "code",
        "colab": {}
      },
      "source": [
        "countTP = (df['y'].eq(1) & df['predicted_y'].eq(1)).sum()\n",
        "countFP = (df['y'].eq(0) & df['predicted_y'].eq(1)).sum()\n",
        "countFN = (df['y'].eq(1) & df['predicted_y'].eq(0)).sum()\n",
        "countTN = (df['y'].eq(0) & df['predicted_y'].eq(0)).sum()"
      ],
      "execution_count": 0,
      "outputs": []
    },
    {
      "cell_type": "code",
      "metadata": {
        "id": "NL-9OLGHnUS2",
        "colab_type": "code",
        "colab": {}
      },
      "source": [
        "conflst=[countTP, countFP, countFN, countTN]"
      ],
      "execution_count": 0,
      "outputs": []
    },
    {
      "cell_type": "code",
      "metadata": {
        "id": "lCROR_O2nUS8",
        "colab_type": "code",
        "colab": {},
        "outputId": "1c25c1a1-31f6-4fc0-b2ef-5fb4afd430d3"
      },
      "source": [
        "confmatrix=np.asarray(conflst)\n",
        "confmatrix.reshape(2,2)"
      ],
      "execution_count": 0,
      "outputs": [
        {
          "output_type": "execute_result",
          "data": {
            "text/plain": [
              "array([[10000,   100],\n",
              "       [    0,     0]], dtype=int64)"
            ]
          },
          "metadata": {
            "tags": []
          },
          "execution_count": 9
        }
      ]
    },
    {
      "cell_type": "code",
      "metadata": {
        "id": "3MwQCZqknUTG",
        "colab_type": "code",
        "colab": {},
        "outputId": "7c8b186d-5d25-4dcd-e950-a4fc9388787b"
      },
      "source": [
        "precision=countTP/(countTP+countFP)\n",
        "recall=countTP/(countTP+countFN)\n",
        "f1=2*((recall*precision)/(precision+recall))\n",
        "print(\"F1 score is:\",f1)"
      ],
      "execution_count": 0,
      "outputs": [
        {
          "output_type": "stream",
          "text": [
            "F1 score is: 0.9950248756218906\n"
          ],
          "name": "stdout"
        }
      ]
    },
    {
      "cell_type": "code",
      "metadata": {
        "id": "X0WStcVJnUTM",
        "colab_type": "code",
        "colab": {},
        "outputId": "be862806-ad87-4a17-ecee-fc0d046edc96"
      },
      "source": [
        "Accuracy=(countTN+countTP)/len(df)\n",
        "print('Accuracy is', Accuracy)"
      ],
      "execution_count": 0,
      "outputs": [
        {
          "output_type": "stream",
          "text": [
            "Accuracy is 0.9900990099009901\n"
          ],
          "name": "stdout"
        }
      ]
    },
    {
      "cell_type": "code",
      "metadata": {
        "id": "6O9vQ2EDnUTS",
        "colab_type": "code",
        "colab": {}
      },
      "source": [
        "#again reading df \n",
        "df=pd.read_csv('5_a.csv')"
      ],
      "execution_count": 0,
      "outputs": []
    },
    {
      "cell_type": "code",
      "metadata": {
        "id": "TQUqTjiRnUTY",
        "colab_type": "code",
        "colab": {}
      },
      "source": [
        "\"\"\"AUC CALCULATION\"\"\"\n",
        "tlset=set(df['proba']) #to make sure there is only unique values we use set\n",
        "tlst=sorted(tlset)\n",
        "TPRlst=[]\n",
        "FPRlst=[]\n",
        "for ele in tlst:\n",
        "    threshhold=ele\n",
        "    df['predicted_y']=df['proba'].apply(lambda x: 1 if x>threshhold else 0)\n",
        "    TP = (df['y'].eq(1) & df['predicted_y'].eq(1)).sum()\n",
        "    FP = (df['y'].eq(0) & df['predicted_y'].eq(1)).sum()\n",
        "    FN = (df['y'].eq(1) & df['predicted_y'].eq(0)).sum()\n",
        "    TN = (df['y'].eq(0) & df['predicted_y'].eq(0)).sum()\n",
        "    TPR=TP/(TP+FN)\n",
        "    FPR=FP/(FP+TN)\n",
        "    TPRlst.append(TPR)\n",
        "    FPRlst.append(FPR)"
      ],
      "execution_count": 0,
      "outputs": []
    },
    {
      "cell_type": "code",
      "metadata": {
        "id": "PIYTJAMLnUTd",
        "colab_type": "code",
        "colab": {},
        "outputId": "02f57633-cb5c-44b5-e7c4-e8c13056e89a"
      },
      "source": [
        "import matplotlib.pyplot as plt\n",
        "plt.title('Receiver Operating Characteristic')\n",
        "plt.plot(FPRlst, TPRlst)\n",
        "plt.ylabel('True Positive Rate')\n",
        "plt.xlabel('False Positive Rate')\n",
        "plt.show()"
      ],
      "execution_count": 0,
      "outputs": [
        {
          "output_type": "display_data",
          "data": {
            "text/plain": [
              "<Figure size 640x480 with 1 Axes>"
            ]
          },
          "metadata": {
            "tags": []
          }
        }
      ]
    },
    {
      "cell_type": "code",
      "metadata": {
        "id": "3rGC2ZqtnUTl",
        "colab_type": "code",
        "colab": {}
      },
      "source": [
        "tpr_array=np.asarray(TPRlst)\n",
        "fpr_array=np.asarray(FPRlst)"
      ],
      "execution_count": 0,
      "outputs": []
    },
    {
      "cell_type": "code",
      "metadata": {
        "id": "Og9qzTLjnUTu",
        "colab_type": "code",
        "colab": {},
        "outputId": "58f9924f-9781-48d2-c740-5a4f299f4a6b"
      },
      "source": [
        "#https://stackoverflow.com/questions/11973800/trapz-giving-weird-results\n",
        "np.trapz(np.sort(tpr_array), np.sort(fpr_array))"
      ],
      "execution_count": 0,
      "outputs": [
        {
          "output_type": "execute_result",
          "data": {
            "text/plain": [
              "0.48829900000000004"
            ]
          },
          "metadata": {
            "tags": []
          },
          "execution_count": 16
        }
      ]
    },
    {
      "cell_type": "code",
      "metadata": {
        "id": "H_9hQ3RfnUT1",
        "colab_type": "code",
        "colab": {},
        "outputId": "f9254783-7aee-4b6d-de5f-b91d8e509c68"
      },
      "source": [
        "#Double checking the answer\n",
        "from sklearn.metrics import roc_auc_score\n",
        "roc_auc_score(df['y'], df['predicted_y'])"
      ],
      "execution_count": 0,
      "outputs": [
        {
          "output_type": "execute_result",
          "data": {
            "text/plain": [
              "0.5"
            ]
          },
          "metadata": {
            "tags": []
          },
          "execution_count": 17
        }
      ]
    },
    {
      "cell_type": "markdown",
      "metadata": {
        "colab_type": "text",
        "id": "V5KZem1BQvn2"
      },
      "source": [
        "<pre>\n",
        "<font color='red'><b>B.</b></font> Compute performance metrics for the given data <strong>5_b.csv</strong>\n",
        "   <b>Note 1:</b> in this data you can see number of positive points << number of negatives points\n",
        "   <b>Note 2:</b> use pandas or numpy to read the data from <b>5_b.csv</b>\n",
        "   <b>Note 3:</b> you need to derive the class labels from given score</pre> $y^{pred}= \\text{[0 if y_score < 0.5 else 1]}$\n",
        "\n",
        "<pre>\n",
        "<ol>\n",
        "<li> Compute Confusion Matrix </li>\n",
        "<li> Compute F1 Score </li>\n",
        "<li> Compute AUC Score, you need to compute different thresholds and for each threshold compute tpr,fpr and then use               numpy.trapz(tpr_array, fpr_array) <a href='https://stackoverflow.com/q/53603376/4084039'>https://stackoverflow.com/q/53603376/4084039</a>, <a href='https://stackoverflow.com/a/39678975/4084039'>https://stackoverflow.com/a/39678975/4084039</a></li>\n",
        "<li> Compute Accuracy Score </li>\n",
        "</ol>\n",
        "</pre>"
      ]
    },
    {
      "cell_type": "code",
      "metadata": {
        "colab_type": "code",
        "id": "U2sKlq0YQvn5",
        "colab": {}
      },
      "source": [
        "df2= pd.read_csv('5_b.csv')"
      ],
      "execution_count": 0,
      "outputs": []
    },
    {
      "cell_type": "code",
      "metadata": {
        "id": "EFqyUuYqnUUE",
        "colab_type": "code",
        "colab": {},
        "outputId": "7383f45a-d347-4695-dc54-257ed7cceda2"
      },
      "source": [
        "df2.head()"
      ],
      "execution_count": 0,
      "outputs": [
        {
          "output_type": "execute_result",
          "data": {
            "text/html": [
              "<div>\n",
              "<style scoped>\n",
              "    .dataframe tbody tr th:only-of-type {\n",
              "        vertical-align: middle;\n",
              "    }\n",
              "\n",
              "    .dataframe tbody tr th {\n",
              "        vertical-align: top;\n",
              "    }\n",
              "\n",
              "    .dataframe thead th {\n",
              "        text-align: right;\n",
              "    }\n",
              "</style>\n",
              "<table border=\"1\" class=\"dataframe\">\n",
              "  <thead>\n",
              "    <tr style=\"text-align: right;\">\n",
              "      <th></th>\n",
              "      <th>y</th>\n",
              "      <th>proba</th>\n",
              "    </tr>\n",
              "  </thead>\n",
              "  <tbody>\n",
              "    <tr>\n",
              "      <th>0</th>\n",
              "      <td>0.0</td>\n",
              "      <td>0.281035</td>\n",
              "    </tr>\n",
              "    <tr>\n",
              "      <th>1</th>\n",
              "      <td>0.0</td>\n",
              "      <td>0.465152</td>\n",
              "    </tr>\n",
              "    <tr>\n",
              "      <th>2</th>\n",
              "      <td>0.0</td>\n",
              "      <td>0.352793</td>\n",
              "    </tr>\n",
              "    <tr>\n",
              "      <th>3</th>\n",
              "      <td>0.0</td>\n",
              "      <td>0.157818</td>\n",
              "    </tr>\n",
              "    <tr>\n",
              "      <th>4</th>\n",
              "      <td>0.0</td>\n",
              "      <td>0.276648</td>\n",
              "    </tr>\n",
              "  </tbody>\n",
              "</table>\n",
              "</div>"
            ],
            "text/plain": [
              "     y     proba\n",
              "0  0.0  0.281035\n",
              "1  0.0  0.465152\n",
              "2  0.0  0.352793\n",
              "3  0.0  0.157818\n",
              "4  0.0  0.276648"
            ]
          },
          "metadata": {
            "tags": []
          },
          "execution_count": 19
        }
      ]
    },
    {
      "cell_type": "code",
      "metadata": {
        "id": "LzNjCF4-nUUJ",
        "colab_type": "code",
        "colab": {},
        "outputId": "a2fea21d-a6af-4765-d977-76fa3a712c66"
      },
      "source": [
        "df2['y'].value_counts()"
      ],
      "execution_count": 0,
      "outputs": [
        {
          "output_type": "execute_result",
          "data": {
            "text/plain": [
              "0.0    10000\n",
              "1.0      100\n",
              "Name: y, dtype: int64"
            ]
          },
          "metadata": {
            "tags": []
          },
          "execution_count": 20
        }
      ]
    },
    {
      "cell_type": "code",
      "metadata": {
        "id": "DnTKxMlgnUUT",
        "colab_type": "code",
        "colab": {},
        "outputId": "e448faa0-2ce5-4d82-e8f7-9078b8fd44a6"
      },
      "source": [
        "df2['predicted_y']=df2['proba'].apply(lambda x: 1 if x>0.5 else 0)\n",
        "countTP = (df2['y'].eq(1) & df2['predicted_y'].eq(1)).sum()\n",
        "countFP = (df2['y'].eq(0) & df2['predicted_y'].eq(1)).sum()\n",
        "countFN = (df2['y'].eq(1) & df2['predicted_y'].eq(0)).sum()\n",
        "countTN = (df2['y'].eq(0) & df2['predicted_y'].eq(0)).sum()\n",
        "precision=countTP/(countTP+countFP)\n",
        "recall=countTP/(countTP+countFN)\n",
        "f1=2*((recall*precision)/(precision+recall))\n",
        "print(\"F1 score is:\",f1)"
      ],
      "execution_count": 0,
      "outputs": [
        {
          "output_type": "stream",
          "text": [
            "F1 score is: 0.2791878172588833\n"
          ],
          "name": "stdout"
        }
      ]
    },
    {
      "cell_type": "code",
      "metadata": {
        "id": "Q-HGrljdnUUd",
        "colab_type": "code",
        "colab": {},
        "outputId": "bb60dff1-e57d-4da4-bba3-ca7127a2bdfa"
      },
      "source": [
        "Accuracy=(countTN+countTP)/len(df)\n",
        "print('Accuracy is', Accuracy)"
      ],
      "execution_count": 0,
      "outputs": [
        {
          "output_type": "stream",
          "text": [
            "Accuracy is 0.9718811881188119\n"
          ],
          "name": "stdout"
        }
      ]
    },
    {
      "cell_type": "code",
      "metadata": {
        "id": "XUwtYfhAnUUl",
        "colab_type": "code",
        "colab": {},
        "outputId": "c438c342-82b3-4956-972d-0b0fd23a640b"
      },
      "source": [
        "conflst=[countTP, countFP, countFN, countTN]\n",
        "confmatrix=np.asarray(conflst)\n",
        "confmatrix.reshape(2,2)"
      ],
      "execution_count": 0,
      "outputs": [
        {
          "output_type": "execute_result",
          "data": {
            "text/plain": [
              "array([[  55,  239],\n",
              "       [  45, 9761]], dtype=int64)"
            ]
          },
          "metadata": {
            "tags": []
          },
          "execution_count": 23
        }
      ]
    },
    {
      "cell_type": "code",
      "metadata": {
        "id": "AssTOQTqnUUv",
        "colab_type": "code",
        "colab": {}
      },
      "source": [
        "#Resetting everything\n",
        "df2= pd.read_csv('5_b.csv')"
      ],
      "execution_count": 0,
      "outputs": []
    },
    {
      "cell_type": "code",
      "metadata": {
        "id": "qrv2qIxpnUU4",
        "colab_type": "code",
        "colab": {}
      },
      "source": [
        "\"\"\"AUC CALCULATION\"\"\"\n",
        "tset=set(df2['proba'])#to make sure there is only unique values we use set\n",
        "tlst=sorted(tset)\n",
        "TPRlst=[]\n",
        "FPRlst=[]\n",
        "for ele in tlst:\n",
        "    threshhold=ele\n",
        "    df2['predicted_y']=df2['proba'].apply(lambda x: 1 if x>threshhold else 0)\n",
        "    TP = (df2['y'].eq(1) & df2['predicted_y'].eq(1)).sum()\n",
        "    FP = (df2['y'].eq(0) & df2['predicted_y'].eq(1)).sum()\n",
        "    FN = (df2['y'].eq(1) & df2['predicted_y'].eq(0)).sum()\n",
        "    TN = (df2['y'].eq(0) & df2['predicted_y'].eq(0)).sum()\n",
        "    TPR=TP/(TP+FN)\n",
        "    FPR=FP/(FP+TN)\n",
        "    TPRlst.append(TPR)\n",
        "    FPRlst.append(FPR)"
      ],
      "execution_count": 0,
      "outputs": []
    },
    {
      "cell_type": "code",
      "metadata": {
        "id": "IMAcqfPknUVC",
        "colab_type": "code",
        "colab": {},
        "outputId": "23b122fc-b131-4a12-f96e-87230ef5f195"
      },
      "source": [
        "plt.title('Receiver Operating Characteristic')\n",
        "plt.plot(FPRlst, TPRlst)\n",
        "plt.ylabel('True Positive Rate')\n",
        "plt.xlabel('False Positive Rate')\n",
        "plt.show()"
      ],
      "execution_count": 0,
      "outputs": [
        {
          "output_type": "display_data",
          "data": {
            "image/png": "[encoded data removed]",
            "text/plain": [
              "<Figure size 432x288 with 1 Axes>"
            ]
          },
          "metadata": {
            "tags": [],
            "needs_background": "light"
          }
        }
      ]
    },
    {
      "cell_type": "code",
      "metadata": {
        "id": "OmkeMzPLnUVM",
        "colab_type": "code",
        "colab": {}
      },
      "source": [
        "tpr_array=np.asarray(TPRlst)\n",
        "fpr_array=np.asarray(FPRlst)"
      ],
      "execution_count": 0,
      "outputs": []
    },
    {
      "cell_type": "code",
      "metadata": {
        "id": "VJ-oR787nUVW",
        "colab_type": "code",
        "colab": {},
        "outputId": "8560a6ff-fc7b-47ba-8972-a884af909804"
      },
      "source": [
        "np.trapz(np.sort(tpr_array), np.sort(fpr_array))"
      ],
      "execution_count": 0,
      "outputs": [
        {
          "output_type": "execute_result",
          "data": {
            "text/plain": [
              "0.9376570000000001"
            ]
          },
          "metadata": {
            "tags": []
          },
          "execution_count": 28
        }
      ]
    },
    {
      "cell_type": "code",
      "metadata": {
        "id": "hwQqnM3XnUVb",
        "colab_type": "code",
        "colab": {},
        "outputId": "7b6a157f-d83a-48e7-8fab-6394528e6a39"
      },
      "source": [
        "#Double checking the answer\n",
        "from sklearn.metrics import roc_auc_score\n",
        "roc_auc_score(df2['y'], df2['proba'])"
      ],
      "execution_count": 0,
      "outputs": [
        {
          "output_type": "execute_result",
          "data": {
            "text/plain": [
              "0.9377570000000001"
            ]
          },
          "metadata": {
            "tags": []
          },
          "execution_count": 29
        }
      ]
    },
    {
      "cell_type": "markdown",
      "metadata": {
        "colab_type": "text",
        "id": "GiPGonTzQvoB"
      },
      "source": [
        "<font color='red'><b>C.</b></font> Compute the best threshold (similarly to ROC curve computation) of probability which gives lowest values of metric <b>A</b> for the given data <strong>5_c.csv</strong>\n",
        "<br>\n",
        "\n",
        "you will be predicting label of a data points like this: $y^{pred}= \\text{[0 if y_score < threshold  else 1]}$\n",
        "\n",
        "$ A = 500 \\times \\text{number of false negative} + 100 \\times \\text{numebr of false positive}$\n",
        "\n",
        "<pre>\n",
        "   <b>Note 1:</b> in this data you can see number of negative points > number of positive points\n",
        "   <b>Note 2:</b> use pandas or numpy to read the data from <b>5_c.csv</b>\n",
        "</pre>"
      ]
    },
    {
      "cell_type": "code",
      "metadata": {
        "colab_type": "code",
        "id": "x5HIJzq1QvoE",
        "colab": {}
      },
      "source": [
        "df3= pd.read_csv('5_c.csv')"
      ],
      "execution_count": 0,
      "outputs": []
    },
    {
      "cell_type": "code",
      "metadata": {
        "id": "FhByCU_snUVu",
        "colab_type": "code",
        "colab": {},
        "outputId": "5e390c53-e294-43a4-9893-f6cbbac2f5d7"
      },
      "source": [
        "df3.shape"
      ],
      "execution_count": 0,
      "outputs": [
        {
          "output_type": "execute_result",
          "data": {
            "text/plain": [
              "(2852, 2)"
            ]
          },
          "metadata": {
            "tags": []
          },
          "execution_count": 31
        }
      ]
    },
    {
      "cell_type": "code",
      "metadata": {
        "id": "mICW-3mwnUV0",
        "colab_type": "code",
        "colab": {},
        "outputId": "0cdd86d2-6f85-438b-9e3e-a6c49d34ef6b"
      },
      "source": [
        "df3.head()"
      ],
      "execution_count": 0,
      "outputs": [
        {
          "output_type": "execute_result",
          "data": {
            "text/html": [
              "<div>\n",
              "<style scoped>\n",
              "    .dataframe tbody tr th:only-of-type {\n",
              "        vertical-align: middle;\n",
              "    }\n",
              "\n",
              "    .dataframe tbody tr th {\n",
              "        vertical-align: top;\n",
              "    }\n",
              "\n",
              "    .dataframe thead th {\n",
              "        text-align: right;\n",
              "    }\n",
              "</style>\n",
              "<table border=\"1\" class=\"dataframe\">\n",
              "  <thead>\n",
              "    <tr style=\"text-align: right;\">\n",
              "      <th></th>\n",
              "      <th>y</th>\n",
              "      <th>prob</th>\n",
              "    </tr>\n",
              "  </thead>\n",
              "  <tbody>\n",
              "    <tr>\n",
              "      <th>0</th>\n",
              "      <td>0</td>\n",
              "      <td>0.458521</td>\n",
              "    </tr>\n",
              "    <tr>\n",
              "      <th>1</th>\n",
              "      <td>0</td>\n",
              "      <td>0.505037</td>\n",
              "    </tr>\n",
              "    <tr>\n",
              "      <th>2</th>\n",
              "      <td>0</td>\n",
              "      <td>0.418652</td>\n",
              "    </tr>\n",
              "    <tr>\n",
              "      <th>3</th>\n",
              "      <td>0</td>\n",
              "      <td>0.412057</td>\n",
              "    </tr>\n",
              "    <tr>\n",
              "      <th>4</th>\n",
              "      <td>0</td>\n",
              "      <td>0.375579</td>\n",
              "    </tr>\n",
              "  </tbody>\n",
              "</table>\n",
              "</div>"
            ],
            "text/plain": [
              "   y      prob\n",
              "0  0  0.458521\n",
              "1  0  0.505037\n",
              "2  0  0.418652\n",
              "3  0  0.412057\n",
              "4  0  0.375579"
            ]
          },
          "metadata": {
            "tags": []
          },
          "execution_count": 32
        }
      ]
    },
    {
      "cell_type": "code",
      "metadata": {
        "id": "46l-JanMnUV4",
        "colab_type": "code",
        "colab": {},
        "outputId": "e5202a17-8641-46a2-9d93-5097eed7851f"
      },
      "source": [
        "df3['y'].value_counts()"
      ],
      "execution_count": 0,
      "outputs": [
        {
          "output_type": "execute_result",
          "data": {
            "text/plain": [
              "0    1805\n",
              "1    1047\n",
              "Name: y, dtype: int64"
            ]
          },
          "metadata": {
            "tags": []
          },
          "execution_count": 33
        }
      ]
    },
    {
      "cell_type": "code",
      "metadata": {
        "id": "yDEMlhyYnUV7",
        "colab_type": "code",
        "colab": {}
      },
      "source": [
        "tset=set(df3['prob'])"
      ],
      "execution_count": 0,
      "outputs": []
    },
    {
      "cell_type": "code",
      "metadata": {
        "id": "tRvBqACDnUWA",
        "colab_type": "code",
        "colab": {}
      },
      "source": [
        "tlst=sorted(tset)"
      ],
      "execution_count": 0,
      "outputs": []
    },
    {
      "cell_type": "code",
      "metadata": {
        "id": "uoEU7iBfnUWD",
        "colab_type": "code",
        "colab": {}
      },
      "source": [
        "\"\"\"AUC CALCULATION\"\"\"\n",
        "#tset=set(df3['prob'])#to make sure there is only unique values we use set\n",
        "#tlst=sorted(tset)\n",
        "Adict={}\n",
        "for ele in tlst:\n",
        "    threshhold=ele\n",
        "    df3['predicted_y']=df3['prob'].apply(lambda x: 1 if x>threshhold else 0)\n",
        "    FP = (df3['y'].eq(0) & df3['predicted_y'].eq(1)).sum()\n",
        "    FN = (df3['y'].eq(1) & df3['predicted_y'].eq(0)).sum()\n",
        "    𝐴=(500*FN)+(100*FP)\n",
        "    Adict.update({threshhold:A})\n",
        "    #FNdict.update({threshhold:FN})"
      ],
      "execution_count": 0,
      "outputs": []
    },
    {
      "cell_type": "code",
      "metadata": {
        "id": "nO_aDaK-nUWI",
        "colab_type": "code",
        "colab": {},
        "outputId": "52379cb6-6332-4f98-859b-16fcd663bc95"
      },
      "source": [
        "#Athrehold=[]\n",
        "minval=min(Adict.values())\n",
        "for threshhold, A in Adict.items():   \n",
        "    if A == minval:\n",
        "        print(\"The best threshold which makes A minimum is\",threshhold)"
      ],
      "execution_count": 0,
      "outputs": [
        {
          "output_type": "stream",
          "text": [
            "The best threshold which makes A minimum is 0.22987164436159915\n"
          ],
          "name": "stdout"
        }
      ]
    },
    {
      "cell_type": "markdown",
      "metadata": {
        "colab_type": "text",
        "id": "sD4CcgjXQvoL"
      },
      "source": [
        "<pre>\n",
        "<font color='red'><b>D.</b></font> Compute performance metrics(for regression) for the given data <strong>5_d.csv</strong>\n",
        "    <b>Note 2:</b> use pandas or numpy to read the data from <b>5_d.csv</b>\n",
        "    <b>Note 1:</b> <b>5_d.csv</b> will having two columns Y and predicted_Y both are real valued features\n",
        "<ol>\n",
        "<li> Compute Mean Square Error </li>\n",
        "<li> Compute MAPE: https://www.youtube.com/watch?v=ly6ztgIkUxk</li>\n",
        "<li> Compute R^2 error: https://en.wikipedia.org/wiki/Coefficient_of_determination#Definitions </li>\n",
        "</ol>\n",
        "</pre>"
      ]
    },
    {
      "cell_type": "code",
      "metadata": {
        "id": "c69JKYV6nUWL",
        "colab_type": "code",
        "colab": {}
      },
      "source": [
        "df4= pd.read_csv('5_d.csv')"
      ],
      "execution_count": 0,
      "outputs": []
    },
    {
      "cell_type": "code",
      "metadata": {
        "id": "2ZR3fR62nUWO",
        "colab_type": "code",
        "colab": {},
        "outputId": "25aeaa67-ed64-4358-e3e6-a464acdc9e70"
      },
      "source": [
        "df4.shape"
      ],
      "execution_count": 0,
      "outputs": [
        {
          "output_type": "execute_result",
          "data": {
            "text/plain": [
              "(157200, 2)"
            ]
          },
          "metadata": {
            "tags": []
          },
          "execution_count": 63
        }
      ]
    },
    {
      "cell_type": "code",
      "metadata": {
        "id": "0YfRaJLznUWg",
        "colab_type": "code",
        "colab": {},
        "outputId": "b95d9ad9-8d7f-4df3-d914-3986c249c601"
      },
      "source": [
        "df4.head(5)"
      ],
      "execution_count": 0,
      "outputs": [
        {
          "output_type": "execute_result",
          "data": {
            "text/html": [
              "<div>\n",
              "<style scoped>\n",
              "    .dataframe tbody tr th:only-of-type {\n",
              "        vertical-align: middle;\n",
              "    }\n",
              "\n",
              "    .dataframe tbody tr th {\n",
              "        vertical-align: top;\n",
              "    }\n",
              "\n",
              "    .dataframe thead th {\n",
              "        text-align: right;\n",
              "    }\n",
              "</style>\n",
              "<table border=\"1\" class=\"dataframe\">\n",
              "  <thead>\n",
              "    <tr style=\"text-align: right;\">\n",
              "      <th></th>\n",
              "      <th>y</th>\n",
              "      <th>pred</th>\n",
              "    </tr>\n",
              "  </thead>\n",
              "  <tbody>\n",
              "    <tr>\n",
              "      <th>0</th>\n",
              "      <td>101.0</td>\n",
              "      <td>100.0</td>\n",
              "    </tr>\n",
              "    <tr>\n",
              "      <th>1</th>\n",
              "      <td>120.0</td>\n",
              "      <td>100.0</td>\n",
              "    </tr>\n",
              "    <tr>\n",
              "      <th>2</th>\n",
              "      <td>131.0</td>\n",
              "      <td>113.0</td>\n",
              "    </tr>\n",
              "    <tr>\n",
              "      <th>3</th>\n",
              "      <td>164.0</td>\n",
              "      <td>125.0</td>\n",
              "    </tr>\n",
              "    <tr>\n",
              "      <th>4</th>\n",
              "      <td>154.0</td>\n",
              "      <td>152.0</td>\n",
              "    </tr>\n",
              "  </tbody>\n",
              "</table>\n",
              "</div>"
            ],
            "text/plain": [
              "       y   pred\n",
              "0  101.0  100.0\n",
              "1  120.0  100.0\n",
              "2  131.0  113.0\n",
              "3  164.0  125.0\n",
              "4  154.0  152.0"
            ]
          },
          "metadata": {
            "tags": []
          },
          "execution_count": 64
        }
      ]
    },
    {
      "cell_type": "code",
      "metadata": {
        "id": "LoRKrSsjnUWo",
        "colab_type": "code",
        "colab": {}
      },
      "source": [
        "df4['SquareDiff']=(df4['y']-df4['pred'])**2"
      ],
      "execution_count": 0,
      "outputs": []
    },
    {
      "cell_type": "code",
      "metadata": {
        "id": "-i5oOThinUWt",
        "colab_type": "code",
        "colab": {},
        "outputId": "4d8a9cf0-6447-4ffe-eacf-1cf31f75d0f6"
      },
      "source": [
        "print(\"The mean square error is : \",df4['SquareDiff'].mean())"
      ],
      "execution_count": 0,
      "outputs": [
        {
          "output_type": "stream",
          "text": [
            "The mean square error is :  177.16569974554707\n"
          ],
          "name": "stdout"
        }
      ]
    },
    {
      "cell_type": "code",
      "metadata": {
        "id": "rjxe7XTNnUWx",
        "colab_type": "code",
        "colab": {}
      },
      "source": [
        "y_bar=df4['y'].mean()\n",
        "df4['SStot']=(df4['y']-y_bar)**2\n",
        "SStot=df4['SStot'].sum()\n",
        "SSres=df4['SquareDiff'].sum()"
      ],
      "execution_count": 0,
      "outputs": []
    },
    {
      "cell_type": "code",
      "metadata": {
        "id": "zViS3DNAnUW2",
        "colab_type": "code",
        "colab": {},
        "outputId": "a5f97e9a-e071-403d-ae8d-1f5c436f4848"
      },
      "source": [
        "print(\"R-squared:\",(1-(SSres/SStot)))"
      ],
      "execution_count": 0,
      "outputs": [
        {
          "output_type": "stream",
          "text": [
            "R-squared: 0.9563582786990937\n"
          ],
          "name": "stdout"
        }
      ]
    },
    {
      "cell_type": "code",
      "metadata": {
        "id": "GJhbazGWnUW6",
        "colab_type": "code",
        "colab": {},
        "outputId": "b2fabed9-be6b-4730-9558-9efd9af21e69"
      },
      "source": [
        "print(\"MAPE is:\",abs(df4['y']-df4['pred']).sum()/df4['y'].sum()*100)"
      ],
      "execution_count": 0,
      "outputs": [
        {
          "output_type": "stream",
          "text": [
            "MAPE is: 12.91202994009687\n"
          ],
          "name": "stdout"
        }
      ]
    }
  ]
}